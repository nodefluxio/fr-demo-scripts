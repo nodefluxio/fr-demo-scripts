{
 "cells": [
  {
   "cell_type": "markdown",
   "metadata": {},
   "source": [
    "# Nodeflux Face Enrollment (in-depth) DEMO"
   ]
  },
  {
   "cell_type": "markdown",
   "metadata": {},
   "source": [
    "### Introduction\n",
    "\n",
    "Welcome! In this demo, you will experience the nodeflux's Face Recognition products, especially on how to deal with face enrollments system with some provided options."
   ]
  },
  {
   "cell_type": "markdown",
   "metadata": {},
   "source": [
    "### Dependencies\n",
    "\n",
    "Run below script once to install all required dependencies"
   ]
  },
  {
   "cell_type": "code",
   "execution_count": null,
   "metadata": {},
   "outputs": [],
   "source": [
    "%pip install pandas\n",
    "%pip install pillow\n",
    "%pip install gradio\n",
    "%pip install requests"
   ]
  },
  {
   "cell_type": "markdown",
   "metadata": {},
   "source": [
    "### Face Enrollment - Configuration \n",
    "\n",
    "This section script will intialize all reusable functions and variable accross different Face Enrollment methods"
   ]
  },
  {
   "cell_type": "code",
   "execution_count": 36,
   "metadata": {},
   "outputs": [],
   "source": [
    "# @title #### Fremis Config\n",
    "FREMIS_ADDRESS = \"192.168.103.46\" # @param {type:\"string\"}\n",
    "FREMIS_PORT = \"2210\" # @param {type:\"string\"}\n",
    "FE_ENDPOINT = \"v1/face/enrollment\"\n",
    "\n",
    "import requests\n",
    "import json\n",
    "from io import BytesIO\n",
    "import base64\n",
    "\n",
    "url = f\"http://{FREMIS_ADDRESS}:{FREMIS_PORT}/{FE_ENDPOINT}\"\n",
    "\n",
    "# Convert Image to Base64 String Data\n",
    "def image2base64(image):\n",
    "    img_byte_array = BytesIO()\n",
    "    image.save(img_byte_array, format='JPEG')\n",
    "    img_byte_array = img_byte_array.getvalue()\n",
    "    \n",
    "    return base64.b64encode(img_byte_array).decode('utf-8')\n",
    "\n",
    "# Enrollment Function\n",
    "def enroll(image, face_id=None):\n",
    "    headers = {\n",
    "        'Content-Type': 'application/json'\n",
    "    }\n",
    "\n",
    "    body = {\n",
    "        'image': image2base64(image),\n",
    "        'keyspace': 'default',\n",
    "    }\n",
    "\n",
    "    if face_id:\n",
    "        body['additional_params'] = {\n",
    "            'face_id': str(face_id)\n",
    "        }\n",
    "\n",
    "    payload = json.dumps(body)\n",
    "    response = requests.request(\"POST\", url, headers=headers, data=payload)\n",
    "    res = response.json()\n",
    "\n",
    "    try:\n",
    "        face_id = res['face_id']\n",
    "        return {\n",
    "            'face_id': res['face_id'],\n",
    "            'success': True\n",
    "        }\n",
    "    except:\n",
    "        return {\n",
    "            'face_id': face_id,\n",
    "            'success': False\n",
    "        }"
   ]
  },
  {
   "cell_type": "markdown",
   "metadata": {},
   "source": [
    "### Face Enrollment - Bulk Inserts"
   ]
  },
  {
   "cell_type": "code",
   "execution_count": 39,
   "metadata": {},
   "outputs": [
    {
     "name": "stdout",
     "output_type": "stream",
     "text": [
      "Running on local URL:  http://127.0.0.1:7886\n",
      "\n",
      "To create a public link, set `share=True` in `launch()`.\n"
     ]
    },
    {
     "data": {
      "text/html": [
       "<div><iframe src=\"http://127.0.0.1:7886/\" width=\"100%\" height=\"500\" allow=\"autoplay; camera; microphone; clipboard-read; clipboard-write;\" frameborder=\"0\" allowfullscreen></iframe></div>"
      ],
      "text/plain": [
       "<IPython.core.display.HTML object>"
      ]
     },
     "metadata": {},
     "output_type": "display_data"
    },
    {
     "data": {
      "text/plain": []
     },
     "execution_count": 39,
     "metadata": {},
     "output_type": "execute_result"
    }
   ],
   "source": [
    "\n",
    "import time \n",
    "from PIL import Image\n",
    "\n",
    "import gradio as gr\n",
    "import pandas as pd\n",
    "\n",
    "df = pd.read_csv('bulk_inputs/face_data.csv')\n",
    "\n",
    "def bulk_enroll(in_df):\n",
    "    file_names = []\n",
    "    face_ids = []\n",
    "    successes = []\n",
    "\n",
    "    for _, row in in_df.iterrows():\n",
    "        img = Image.open(row['file_name'])\n",
    "\n",
    "        res = enroll(img)\n",
    "        file_names.append(row['file_name'])\n",
    "        face_ids.append(res['face_id'])\n",
    "        successes.append(res['success'])\n",
    "\n",
    "        time.sleep(0.1)\n",
    "\n",
    "    out_df = pd.DataFrame(data={\n",
    "            'file_name': file_names,\n",
    "            'face_id': face_ids,\n",
    "            'success': successes\n",
    "        })\n",
    "    \n",
    "    return out_df\n",
    "\n",
    "iface = gr.Interface(\n",
    "    fn=bulk_enroll,  \n",
    "    inputs=gr.Dataframe(datatype=\"str\", row_count=(3, \"dynamic\"), col_count=1, interactive=False),\n",
    "    outputs=gr.Dataframe(datatype=\"str\", row_count=(3, \"dynamic\"), col_count=3, interactive=False), \n",
    "    title=\"Face Enrollment (Bulk with Custom Face ID)\",\n",
    "    examples=[\n",
    "        df,\n",
    "    ]\n",
    ")\n",
    "\n",
    "iface.launch()"
   ]
  },
  {
   "cell_type": "markdown",
   "metadata": {},
   "source": [
    "### Face Enrollment - Bulk Inserts with Custom Face IDs"
   ]
  },
  {
   "cell_type": "code",
   "execution_count": 40,
   "metadata": {},
   "outputs": [
    {
     "name": "stdout",
     "output_type": "stream",
     "text": [
      "Running on local URL:  http://127.0.0.1:7887\n",
      "\n",
      "To create a public link, set `share=True` in `launch()`.\n"
     ]
    },
    {
     "data": {
      "text/html": [
       "<div><iframe src=\"http://127.0.0.1:7887/\" width=\"100%\" height=\"500\" allow=\"autoplay; camera; microphone; clipboard-read; clipboard-write;\" frameborder=\"0\" allowfullscreen></iframe></div>"
      ],
      "text/plain": [
       "<IPython.core.display.HTML object>"
      ]
     },
     "metadata": {},
     "output_type": "display_data"
    },
    {
     "data": {
      "text/plain": []
     },
     "execution_count": 40,
     "metadata": {},
     "output_type": "execute_result"
    }
   ],
   "source": [
    "import time \n",
    "from PIL import Image\n",
    "\n",
    "import gradio as gr\n",
    "import pandas as pd\n",
    "\n",
    "url = f\"http://{FREMIS_ADDRESS}:{FREMIS_PORT}/{FE_ENDPOINT}\"\n",
    "\n",
    "df = pd.read_csv('bulk_inputs/face_data_with_custom_id.csv')\n",
    "\n",
    "def bulk_enroll_with_id(in_df):\n",
    "    file_names = []\n",
    "    face_ids = []\n",
    "    successes = []\n",
    "\n",
    "    for _, row in in_df.iterrows():\n",
    "        img = Image.open(row['file_name'])\n",
    "\n",
    "        res = enroll(img, row['face_id'])\n",
    "        file_names.append(row['file_name'])\n",
    "        face_ids.append(res['face_id'])\n",
    "        successes.append(res['success'])\n",
    "\n",
    "        time.sleep(0.1)\n",
    "\n",
    "    out_df = pd.DataFrame(data={\n",
    "            'file_name': file_names,\n",
    "            'face_id': face_ids,\n",
    "            'success': successes\n",
    "        })\n",
    "    \n",
    "    return out_df\n",
    "\n",
    "iface = gr.Interface(\n",
    "    fn=bulk_enroll_with_id,  \n",
    "    inputs=gr.Dataframe(datatype=\"str\", row_count=(3, \"dynamic\"), col_count=2, interactive=False),\n",
    "    outputs=gr.Dataframe(datatype=\"str\", row_count=(3, \"dynamic\"), col_count=3, interactive=False), \n",
    "    title=\"Face Enrollment (Bulk with Custom Face ID)\",\n",
    "    examples=[\n",
    "        df,\n",
    "    ]\n",
    ")\n",
    "\n",
    "iface.launch()"
   ]
  },
  {
   "cell_type": "markdown",
   "metadata": {},
   "source": [
    "### Face Enrollment - Bulk Inserts with Custom Metadata via User Dashboard API"
   ]
  },
  {
   "cell_type": "code",
   "execution_count": 54,
   "metadata": {},
   "outputs": [],
   "source": [
    "# @title #### Fremis Config\n",
    "VANILLA_ADDRESS = \"192.168.103.46\" # @param {type:\"string\"}\n",
    "VANILLA_PORT = \"8008\" # @param {type:\"string\"}\n",
    "FE_ENDPOINT = \"api/enrollment\""
   ]
  },
  {
   "cell_type": "code",
   "execution_count": 61,
   "metadata": {},
   "outputs": [],
   "source": [
    "from io import BytesIO\n",
    "import requests\n",
    "from PIL import Image\n",
    "\n",
    "url = f\"http://{VANILLA_ADDRESS}:{VANILLA_PORT}/{FE_ENDPOINT}\"\n",
    "\n",
    "def image2bin(image):\n",
    "    img_byte_array = BytesIO()\n",
    "    image.save(img_byte_array, format='JPEG')\n",
    "    return img_byte_array.getvalue()\n",
    "\n",
    "\n",
    "def dashboard_enroll(image, payload):\n",
    "    files = {\n",
    "        ('images',('test.jpeg',image2bin(image),'image/jpeg'))\n",
    "    }\n",
    "\n",
    "    response = requests.request(\"POST\", url, data=payload, files=files)\n",
    "    res = response.json() \n",
    "\n",
    "    img_thumb = None\n",
    "    try:\n",
    "        base64_image_string = res['enrollment']['faces'][0]['image_thumbnail']\n",
    "        decoded_bytes = base64.b64decode(base64_image_string)\n",
    "        image_stream = BytesIO(decoded_bytes)\n",
    "        img_thumb = Image.open(image_stream)\n",
    "\n",
    "        return {\n",
    "            'face_id': str(res['enrollment']['face_id']),\n",
    "            'name': res['enrollment']['name'],\n",
    "            'status': res['enrollment']['status'],\n",
    "            'success': True,\n",
    "        }, img_thumb\n",
    "    except:\n",
    "        return {\n",
    "            'face_id': None,\n",
    "            'name': None,\n",
    "            'status': None,\n",
    "            'success': True,\n",
    "        }, None"
   ]
  },
  {
   "cell_type": "code",
   "execution_count": null,
   "metadata": {},
   "outputs": [],
   "source": [
    "import time \n",
    "from PIL import Image\n",
    "\n",
    "import gradio as gr\n",
    "import pandas as pd\n",
    "\n",
    "df = pd.read_csv('bulk_inputs/face_data_with_metadata.csv')\n",
    "\n",
    "def bulk_enroll_with_metadata(in_df):\n",
    "    file_names = []\n",
    "    face_ids = []\n",
    "    names = []\n",
    "    status = []\n",
    "    successes = []\n",
    "    img_thumbs = []\n",
    "\n",
    "    for _, row in in_df.iterrows():\n",
    "        img = Image.open(row['file_name'])\n",
    "\n",
    "        payload = {\n",
    "            'name': row['name'],\n",
    "            # 'face_id': row['face_id'] # Enable this if want to use Custom Face ID, instead randomly generated\n",
    "            'identity_number': row['id_num'],\n",
    "            'gender': row['gender'],\n",
    "            'birth_date': row['birth_date'],\n",
    "            'birth_place': row['birth_place'],\n",
    "            'status': row['status'],\n",
    "        }\n",
    "\n",
    "        res, img_thumb = dashboard_enroll(img, payload)\n",
    "        file_names.append(row['file_name'])\n",
    "        face_ids.append(res['face_id'])\n",
    "        names.append(res['name'])\n",
    "        status.append(res['status'])\n",
    "        successes.append(res['success'])\n",
    "        if img_thumb:\n",
    "            img_thumbs.append((img_thumb, res['face_id']))\n",
    "\n",
    "        time.sleep(0.1)\n",
    "\n",
    "    out_df = pd.DataFrame(data={\n",
    "            'file_name': file_names,\n",
    "            'face_id': face_ids,\n",
    "            'name': names,\n",
    "            'status': status,\n",
    "            'success': successes\n",
    "        })\n",
    "    \n",
    "    return out_df, img_thumbs\n",
    "\n",
    "iface = gr.Interface(\n",
    "    fn=bulk_enroll_with_metadata,  \n",
    "    inputs=gr.Dataframe(datatype=\"str\", row_count=(3, \"dynamic\"), col_count=7, interactive=False),\n",
    "    outputs=[gr.Dataframe(datatype=\"str\", row_count=(3, \"dynamic\"), col_count=5, interactive=False),\n",
    "             gr.Gallery(label=\"Image Thumbnails\", show_label=True, elem_id=\"gallery\",\n",
    "                        columns=[3], rows=[1], object_fit=\"contain\", height=\"auto\")], \n",
    "    title=\"Face Enrollment (Bulk with Custom Face ID)\",\n",
    "    examples=[\n",
    "        df,\n",
    "    ]\n",
    ")\n",
    "\n",
    "iface.launch()"
   ]
  }
 ],
 "metadata": {
  "kernelspec": {
   "display_name": "Python 3",
   "language": "python",
   "name": "python3"
  },
  "language_info": {
   "codemirror_mode": {
    "name": "ipython",
    "version": 3
   },
   "file_extension": ".py",
   "mimetype": "text/x-python",
   "name": "python",
   "nbconvert_exporter": "python",
   "pygments_lexer": "ipython3",
   "version": "3.8.10"
  }
 },
 "nbformat": 4,
 "nbformat_minor": 2
}
