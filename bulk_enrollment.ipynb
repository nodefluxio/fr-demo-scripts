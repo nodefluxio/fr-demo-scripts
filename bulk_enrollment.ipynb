{
 "cells": [
  {
   "cell_type": "markdown",
   "metadata": {},
   "source": [
    "# Nodeflux Face Enrollment (in-depth) DEMO"
   ]
  },
  {
   "cell_type": "markdown",
   "metadata": {},
   "source": [
    "### Introduction\n",
    "\n",
    "Welcome! In this demo, you will experience the nodeflux's Face Recognition products, especially on how to deal with face enrollments system with some provided options."
   ]
  },
  {
   "cell_type": "markdown",
   "metadata": {},
   "source": [
    "### Dependencies\n",
    "\n",
    "Run below script once to install all required dependencies"
   ]
  },
  {
   "cell_type": "code",
   "execution_count": 1,
   "metadata": {},
   "outputs": [
    {
     "name": "stdout",
     "output_type": "stream",
     "text": [
      "Defaulting to user installation because normal site-packages is not writeable\n",
      "Requirement already satisfied: pandas in /usr/local/lib/python3.8/dist-packages (2.0.3)\n",
      "Requirement already satisfied: python-dateutil>=2.8.2 in /usr/local/lib/python3.8/dist-packages (from pandas) (2.8.2)\n",
      "Requirement already satisfied: pytz>=2020.1 in /usr/local/lib/python3.8/dist-packages (from pandas) (2023.3)\n",
      "Requirement already satisfied: tzdata>=2022.1 in /usr/local/lib/python3.8/dist-packages (from pandas) (2023.3)\n",
      "Requirement already satisfied: numpy>=1.20.3 in /home/nodeflux/.local/lib/python3.8/site-packages (from pandas) (1.24.2)\n",
      "Requirement already satisfied: six>=1.5 in /usr/lib/python3/dist-packages (from python-dateutil>=2.8.2->pandas) (1.14.0)\n",
      "\n",
      "\u001b[1m[\u001b[0m\u001b[34;49mnotice\u001b[0m\u001b[1;39;49m]\u001b[0m\u001b[39;49m A new release of pip is available: \u001b[0m\u001b[31;49m23.3.2\u001b[0m\u001b[39;49m -> \u001b[0m\u001b[32;49m24.0\u001b[0m\n",
      "\u001b[1m[\u001b[0m\u001b[34;49mnotice\u001b[0m\u001b[1;39;49m]\u001b[0m\u001b[39;49m To update, run: \u001b[0m\u001b[32;49mpip install --upgrade pip\u001b[0m\n",
      "Note: you may need to restart the kernel to use updated packages.\n",
      "Defaulting to user installation because normal site-packages is not writeable\n",
      "Requirement already satisfied: pillow in /home/nodeflux/.local/lib/python3.8/site-packages (10.2.0)\n",
      "\n",
      "\u001b[1m[\u001b[0m\u001b[34;49mnotice\u001b[0m\u001b[1;39;49m]\u001b[0m\u001b[39;49m A new release of pip is available: \u001b[0m\u001b[31;49m23.3.2\u001b[0m\u001b[39;49m -> \u001b[0m\u001b[32;49m24.0\u001b[0m\n",
      "\u001b[1m[\u001b[0m\u001b[34;49mnotice\u001b[0m\u001b[1;39;49m]\u001b[0m\u001b[39;49m To update, run: \u001b[0m\u001b[32;49mpip install --upgrade pip\u001b[0m\n",
      "Note: you may need to restart the kernel to use updated packages.\n",
      "Defaulting to user installation because normal site-packages is not writeable\n",
      "Requirement already satisfied: gradio in /home/nodeflux/.local/lib/python3.8/site-packages (3.43.2)\n",
      "Requirement already satisfied: aiofiles<24.0,>=22.0 in /home/nodeflux/.local/lib/python3.8/site-packages (from gradio) (23.2.1)\n",
      "Requirement already satisfied: altair<6.0,>=4.2.0 in /home/nodeflux/.local/lib/python3.8/site-packages (from gradio) (5.1.1)\n",
      "Requirement already satisfied: fastapi in /home/nodeflux/.local/lib/python3.8/site-packages (from gradio) (0.103.1)\n",
      "Requirement already satisfied: ffmpy in /home/nodeflux/.local/lib/python3.8/site-packages (from gradio) (0.3.1)\n",
      "Requirement already satisfied: gradio-client==0.5.0 in /home/nodeflux/.local/lib/python3.8/site-packages (from gradio) (0.5.0)\n",
      "Requirement already satisfied: httpx in /home/nodeflux/.local/lib/python3.8/site-packages (from gradio) (0.24.1)\n",
      "Requirement already satisfied: huggingface-hub>=0.14.0 in /home/nodeflux/.local/lib/python3.8/site-packages (from gradio) (0.16.4)\n",
      "Requirement already satisfied: importlib-resources<7.0,>=1.3 in /home/nodeflux/.local/lib/python3.8/site-packages (from gradio) (5.12.0)\n",
      "Requirement already satisfied: jinja2<4.0 in /home/nodeflux/.local/lib/python3.8/site-packages (from gradio) (3.1.2)\n",
      "Requirement already satisfied: markupsafe~=2.0 in /home/nodeflux/.local/lib/python3.8/site-packages (from gradio) (2.1.3)\n",
      "Requirement already satisfied: matplotlib~=3.0 in /home/nodeflux/.local/lib/python3.8/site-packages (from gradio) (3.7.1)\n",
      "Requirement already satisfied: numpy~=1.0 in /home/nodeflux/.local/lib/python3.8/site-packages (from gradio) (1.24.2)\n",
      "Requirement already satisfied: orjson~=3.0 in /home/nodeflux/.local/lib/python3.8/site-packages (from gradio) (3.9.6)\n",
      "Requirement already satisfied: packaging in /home/nodeflux/.local/lib/python3.8/site-packages (from gradio) (23.0)\n",
      "Requirement already satisfied: pandas<3.0,>=1.0 in /usr/local/lib/python3.8/dist-packages (from gradio) (2.0.3)\n",
      "Requirement already satisfied: pillow<11.0,>=8.0 in /home/nodeflux/.local/lib/python3.8/site-packages (from gradio) (10.2.0)\n",
      "Requirement already satisfied: pydantic!=1.8,!=1.8.1,!=2.0.0,!=2.0.1,<3.0.0,>=1.7.4 in /home/nodeflux/.local/lib/python3.8/site-packages (from gradio) (2.3.0)\n",
      "Requirement already satisfied: pydub in /home/nodeflux/.local/lib/python3.8/site-packages (from gradio) (0.25.1)\n",
      "Requirement already satisfied: python-multipart in /home/nodeflux/.local/lib/python3.8/site-packages (from gradio) (0.0.6)\n",
      "Requirement already satisfied: pyyaml<7.0,>=5.0 in /usr/lib/python3/dist-packages (from gradio) (5.3.1)\n",
      "Requirement already satisfied: requests~=2.0 in /home/nodeflux/.local/lib/python3.8/site-packages (from gradio) (2.28.1)\n",
      "Requirement already satisfied: semantic-version~=2.0 in /home/nodeflux/.local/lib/python3.8/site-packages (from gradio) (2.10.0)\n",
      "Requirement already satisfied: typing-extensions~=4.0 in /usr/local/lib/python3.8/dist-packages (from gradio) (4.7.1)\n",
      "Requirement already satisfied: uvicorn>=0.14.0 in /home/nodeflux/.local/lib/python3.8/site-packages (from gradio) (0.23.2)\n",
      "Requirement already satisfied: websockets<12.0,>=10.0 in /home/nodeflux/.local/lib/python3.8/site-packages (from gradio) (11.0.3)\n",
      "Requirement already satisfied: fsspec in /home/nodeflux/.local/lib/python3.8/site-packages (from gradio-client==0.5.0->gradio) (2023.6.0)\n",
      "Requirement already satisfied: jsonschema>=3.0 in /home/nodeflux/.local/lib/python3.8/site-packages (from altair<6.0,>=4.2.0->gradio) (4.19.0)\n",
      "Requirement already satisfied: toolz in /home/nodeflux/.local/lib/python3.8/site-packages (from altair<6.0,>=4.2.0->gradio) (0.12.0)\n",
      "Requirement already satisfied: filelock in /home/nodeflux/.local/lib/python3.8/site-packages (from huggingface-hub>=0.14.0->gradio) (3.12.2)\n",
      "Requirement already satisfied: tqdm>=4.42.1 in /home/nodeflux/.local/lib/python3.8/site-packages (from huggingface-hub>=0.14.0->gradio) (4.64.1)\n",
      "Requirement already satisfied: zipp>=3.1.0 in /home/nodeflux/.local/lib/python3.8/site-packages (from importlib-resources<7.0,>=1.3->gradio) (3.15.0)\n",
      "Requirement already satisfied: contourpy>=1.0.1 in /home/nodeflux/.local/lib/python3.8/site-packages (from matplotlib~=3.0->gradio) (1.0.7)\n",
      "Requirement already satisfied: cycler>=0.10 in /home/nodeflux/.local/lib/python3.8/site-packages (from matplotlib~=3.0->gradio) (0.11.0)\n",
      "Requirement already satisfied: fonttools>=4.22.0 in /home/nodeflux/.local/lib/python3.8/site-packages (from matplotlib~=3.0->gradio) (4.39.3)\n",
      "Requirement already satisfied: kiwisolver>=1.0.1 in /home/nodeflux/.local/lib/python3.8/site-packages (from matplotlib~=3.0->gradio) (1.4.4)\n",
      "Requirement already satisfied: pyparsing>=2.3.1 in /home/nodeflux/.local/lib/python3.8/site-packages (from matplotlib~=3.0->gradio) (3.0.9)\n",
      "Requirement already satisfied: python-dateutil>=2.7 in /usr/local/lib/python3.8/dist-packages (from matplotlib~=3.0->gradio) (2.8.2)\n",
      "Requirement already satisfied: pytz>=2020.1 in /usr/local/lib/python3.8/dist-packages (from pandas<3.0,>=1.0->gradio) (2023.3)\n",
      "Requirement already satisfied: tzdata>=2022.1 in /usr/local/lib/python3.8/dist-packages (from pandas<3.0,>=1.0->gradio) (2023.3)\n",
      "Requirement already satisfied: annotated-types>=0.4.0 in /home/nodeflux/.local/lib/python3.8/site-packages (from pydantic!=1.8,!=1.8.1,!=2.0.0,!=2.0.1,<3.0.0,>=1.7.4->gradio) (0.5.0)\n",
      "Requirement already satisfied: pydantic-core==2.6.3 in /home/nodeflux/.local/lib/python3.8/site-packages (from pydantic!=1.8,!=1.8.1,!=2.0.0,!=2.0.1,<3.0.0,>=1.7.4->gradio) (2.6.3)\n",
      "Requirement already satisfied: charset-normalizer<3,>=2 in /home/nodeflux/.local/lib/python3.8/site-packages (from requests~=2.0->gradio) (2.1.1)\n",
      "Requirement already satisfied: idna<4,>=2.5 in /usr/lib/python3/dist-packages (from requests~=2.0->gradio) (2.8)\n",
      "Requirement already satisfied: urllib3<1.27,>=1.21.1 in /home/nodeflux/.local/lib/python3.8/site-packages (from requests~=2.0->gradio) (1.26.15)\n",
      "Requirement already satisfied: certifi>=2017.4.17 in /usr/lib/python3/dist-packages (from requests~=2.0->gradio) (2019.11.28)\n",
      "Requirement already satisfied: click>=7.0 in /usr/local/lib/python3.8/dist-packages (from uvicorn>=0.14.0->gradio) (8.1.3)\n",
      "Requirement already satisfied: h11>=0.8 in /home/nodeflux/.local/lib/python3.8/site-packages (from uvicorn>=0.14.0->gradio) (0.14.0)\n",
      "Requirement already satisfied: anyio<4.0.0,>=3.7.1 in /home/nodeflux/.local/lib/python3.8/site-packages (from fastapi->gradio) (3.7.1)\n",
      "Requirement already satisfied: starlette<0.28.0,>=0.27.0 in /home/nodeflux/.local/lib/python3.8/site-packages (from fastapi->gradio) (0.27.0)\n",
      "Requirement already satisfied: httpcore<0.18.0,>=0.15.0 in /home/nodeflux/.local/lib/python3.8/site-packages (from httpx->gradio) (0.17.3)\n",
      "Requirement already satisfied: sniffio in /home/nodeflux/.local/lib/python3.8/site-packages (from httpx->gradio) (1.3.0)\n",
      "Requirement already satisfied: exceptiongroup in /home/nodeflux/.local/lib/python3.8/site-packages (from anyio<4.0.0,>=3.7.1->fastapi->gradio) (1.1.3)\n",
      "Requirement already satisfied: attrs>=22.2.0 in /home/nodeflux/.local/lib/python3.8/site-packages (from jsonschema>=3.0->altair<6.0,>=4.2.0->gradio) (23.1.0)\n",
      "Requirement already satisfied: jsonschema-specifications>=2023.03.6 in /home/nodeflux/.local/lib/python3.8/site-packages (from jsonschema>=3.0->altair<6.0,>=4.2.0->gradio) (2023.7.1)\n",
      "Requirement already satisfied: pkgutil-resolve-name>=1.3.10 in /home/nodeflux/.local/lib/python3.8/site-packages (from jsonschema>=3.0->altair<6.0,>=4.2.0->gradio) (1.3.10)\n",
      "Requirement already satisfied: referencing>=0.28.4 in /home/nodeflux/.local/lib/python3.8/site-packages (from jsonschema>=3.0->altair<6.0,>=4.2.0->gradio) (0.30.2)\n",
      "Requirement already satisfied: rpds-py>=0.7.1 in /home/nodeflux/.local/lib/python3.8/site-packages (from jsonschema>=3.0->altair<6.0,>=4.2.0->gradio) (0.10.0)\n",
      "Requirement already satisfied: six>=1.5 in /usr/lib/python3/dist-packages (from python-dateutil>=2.7->matplotlib~=3.0->gradio) (1.14.0)\n",
      "\n",
      "\u001b[1m[\u001b[0m\u001b[34;49mnotice\u001b[0m\u001b[1;39;49m]\u001b[0m\u001b[39;49m A new release of pip is available: \u001b[0m\u001b[31;49m23.3.2\u001b[0m\u001b[39;49m -> \u001b[0m\u001b[32;49m24.0\u001b[0m\n",
      "\u001b[1m[\u001b[0m\u001b[34;49mnotice\u001b[0m\u001b[1;39;49m]\u001b[0m\u001b[39;49m To update, run: \u001b[0m\u001b[32;49mpip install --upgrade pip\u001b[0m\n",
      "Note: you may need to restart the kernel to use updated packages.\n",
      "Defaulting to user installation because normal site-packages is not writeable\n",
      "Requirement already satisfied: requests in /home/nodeflux/.local/lib/python3.8/site-packages (2.28.1)\n",
      "Requirement already satisfied: charset-normalizer<3,>=2 in /home/nodeflux/.local/lib/python3.8/site-packages (from requests) (2.1.1)\n",
      "Requirement already satisfied: idna<4,>=2.5 in /usr/lib/python3/dist-packages (from requests) (2.8)\n",
      "Requirement already satisfied: urllib3<1.27,>=1.21.1 in /home/nodeflux/.local/lib/python3.8/site-packages (from requests) (1.26.15)\n",
      "Requirement already satisfied: certifi>=2017.4.17 in /usr/lib/python3/dist-packages (from requests) (2019.11.28)\n",
      "\n",
      "\u001b[1m[\u001b[0m\u001b[34;49mnotice\u001b[0m\u001b[1;39;49m]\u001b[0m\u001b[39;49m A new release of pip is available: \u001b[0m\u001b[31;49m23.3.2\u001b[0m\u001b[39;49m -> \u001b[0m\u001b[32;49m24.0\u001b[0m\n",
      "\u001b[1m[\u001b[0m\u001b[34;49mnotice\u001b[0m\u001b[1;39;49m]\u001b[0m\u001b[39;49m To update, run: \u001b[0m\u001b[32;49mpip install --upgrade pip\u001b[0m\n",
      "Note: you may need to restart the kernel to use updated packages.\n",
      "Defaulting to user installation because normal site-packages is not writeable\n",
      "Requirement already satisfied: tqdm in /home/nodeflux/.local/lib/python3.8/site-packages (4.64.1)\n",
      "\n",
      "\u001b[1m[\u001b[0m\u001b[34;49mnotice\u001b[0m\u001b[1;39;49m]\u001b[0m\u001b[39;49m A new release of pip is available: \u001b[0m\u001b[31;49m23.3.2\u001b[0m\u001b[39;49m -> \u001b[0m\u001b[32;49m24.0\u001b[0m\n",
      "\u001b[1m[\u001b[0m\u001b[34;49mnotice\u001b[0m\u001b[1;39;49m]\u001b[0m\u001b[39;49m To update, run: \u001b[0m\u001b[32;49mpip install --upgrade pip\u001b[0m\n",
      "Note: you may need to restart the kernel to use updated packages.\n"
     ]
    }
   ],
   "source": [
    "%pip install pandas\n",
    "%pip install pillow\n",
    "%pip install gradio\n",
    "%pip install requests\n",
    "%pip install tqdm"
   ]
  },
  {
   "cell_type": "markdown",
   "metadata": {},
   "source": [
    "## Face Enrollment to FR on Premise Platform"
   ]
  },
  {
   "cell_type": "markdown",
   "metadata": {},
   "source": [
    "### Configuration \n",
    "\n",
    "This section script will initialize all reusable functions and variable accross different Face Enrollment methods that directly use FRemis API"
   ]
  },
  {
   "cell_type": "code",
   "execution_count": 2,
   "metadata": {},
   "outputs": [],
   "source": [
    "# @title #### Fremis Config\n",
    "FREMIS_ADDRESS = \"192.168.103.46\" # @param {type:\"string\"}\n",
    "FREMIS_PORT = \"2210\" # @param {type:\"string\"}\n",
    "FE_ENDPOINT = \"v1/face/enrollment\""
   ]
  },
  {
   "cell_type": "code",
   "execution_count": 3,
   "metadata": {},
   "outputs": [],
   "source": [
    "import requests\n",
    "import json\n",
    "from io import BytesIO\n",
    "import base64\n",
    "\n",
    "url = f\"http://{FREMIS_ADDRESS}:{FREMIS_PORT}/{FE_ENDPOINT}\"\n",
    "\n",
    "# Convert Image to Base64 String Data\n",
    "def image2base64(image):\n",
    "    img_byte_array = BytesIO()\n",
    "    image.save(img_byte_array, format='JPEG')\n",
    "    img_byte_array = img_byte_array.getvalue()\n",
    "    \n",
    "    return base64.b64encode(img_byte_array).decode('utf-8')\n",
    "\n",
    "# Enrollment Function\n",
    "def enroll(image, face_id=None):\n",
    "    headers = {\n",
    "        'Content-Type': 'application/json'\n",
    "    }\n",
    "\n",
    "    body = {\n",
    "        'image': image2base64(image),\n",
    "        'keyspace': 'default',\n",
    "    }\n",
    "\n",
    "    if face_id:\n",
    "        body['additional_params'] = {\n",
    "            'face_id': str(face_id)\n",
    "        }\n",
    "\n",
    "    payload = json.dumps(body)\n",
    "    response = requests.request(\"POST\", url, headers=headers, data=payload)\n",
    "    res = response.json()\n",
    "\n",
    "    try:\n",
    "        face_id = res['face_id']\n",
    "        return {\n",
    "            'face_id': res['face_id'],\n",
    "            'success': True\n",
    "        }\n",
    "    except:\n",
    "        return {\n",
    "            'face_id': face_id,\n",
    "            'success': False\n",
    "        }"
   ]
  },
  {
   "cell_type": "markdown",
   "metadata": {},
   "source": [
    "### Bulk Inserts"
   ]
  },
  {
   "cell_type": "code",
   "execution_count": null,
   "metadata": {},
   "outputs": [],
   "source": [
    "import time \n",
    "from PIL import Image\n",
    "\n",
    "import gradio as gr\n",
    "import pandas as pd\n",
    "from tqdm import tqdm\n",
    "\n",
    "df = pd.read_csv('bulk_inputs/face_data.csv')\n",
    "print(\">>> Sucessfully Read CSV Input\")\n",
    "\n",
    "def bulk_enroll(in_df):\n",
    "    file_names = []\n",
    "    face_ids = []\n",
    "    successes = []\n",
    "\n",
    "    print(\">>> Face Enrollment Started\")\n",
    "\n",
    "    for _, row in tqdm(in_df.iterrows(), total=len(in_df)):\n",
    "        img = Image.open(row['file_name'])\n",
    "\n",
    "        res = enroll(img)\n",
    "        file_names.append(row['file_name'])\n",
    "        face_ids.append(res['face_id'])\n",
    "        successes.append(res['success'])\n",
    "\n",
    "        time.sleep(0.1)\n",
    "\n",
    "    print(\">>> Face Enrollment Finished\")\n",
    "\n",
    "    out_df = pd.DataFrame(data={\n",
    "            'file_name': file_names,\n",
    "            'face_id': face_ids,\n",
    "            'success': successes\n",
    "        })\n",
    "    \n",
    "    return out_df\n",
    "\n",
    "iface = gr.Interface(\n",
    "    fn=bulk_enroll,  \n",
    "    inputs=gr.Dataframe(datatype=\"str\", row_count=(3, \"dynamic\"), col_count=1, interactive=False),\n",
    "    outputs=gr.Dataframe(datatype=\"str\", row_count=(3, \"dynamic\"), col_count=3, interactive=False), \n",
    "    title=\"Face Enrollment (Bulk with Custom Face ID)\",\n",
    "    examples=[\n",
    "        df,\n",
    "    ]\n",
    ")\n",
    "\n",
    "iface.launch()"
   ]
  },
  {
   "cell_type": "markdown",
   "metadata": {},
   "source": [
    "### Bulk Inserts with Custom Face IDs"
   ]
  },
  {
   "cell_type": "code",
   "execution_count": null,
   "metadata": {},
   "outputs": [],
   "source": [
    "import time \n",
    "from PIL import Image\n",
    "\n",
    "import gradio as gr\n",
    "import pandas as pd\n",
    "from tqdm import tqdm\n",
    "\n",
    "url = f\"http://{FREMIS_ADDRESS}:{FREMIS_PORT}/{FE_ENDPOINT}\"\n",
    "\n",
    "df = pd.read_csv('bulk_inputs/face_data_with_custom_id.csv')\n",
    "print(\">>> Sucessfully Read CSV Input\")\n",
    "\n",
    "def bulk_enroll_with_id(in_df):\n",
    "    file_names = []\n",
    "    face_ids = []\n",
    "    successes = []\n",
    "\n",
    "    print(\">>> Face Enrollment Started\")\n",
    "\n",
    "    for _, row in tqdm(in_df.iterrows(), total=len(in_df)):\n",
    "        img = Image.open(row['file_name'])\n",
    "\n",
    "        res = enroll(img, row['face_id'])\n",
    "        file_names.append(row['file_name'])\n",
    "        face_ids.append(res['face_id'])\n",
    "        successes.append(res['success'])\n",
    "\n",
    "        time.sleep(0.1)\n",
    "\n",
    "    print(\">>> Face Enrollment Finished\")\n",
    "\n",
    "    out_df = pd.DataFrame(data={\n",
    "            'file_name': file_names,\n",
    "            'face_id': face_ids,\n",
    "            'success': successes\n",
    "        })\n",
    "    \n",
    "    return out_df\n",
    "\n",
    "iface = gr.Interface(\n",
    "    fn=bulk_enroll_with_id,  \n",
    "    inputs=gr.Dataframe(datatype=\"str\", row_count=(3, \"dynamic\"), col_count=2, interactive=False),\n",
    "    outputs=gr.Dataframe(datatype=\"str\", row_count=(3, \"dynamic\"), col_count=3, interactive=False), \n",
    "    title=\"Face Enrollment (Bulk with Custom Face ID)\",\n",
    "    examples=[\n",
    "        df,\n",
    "    ]\n",
    ")\n",
    "\n",
    "iface.launch()"
   ]
  },
  {
   "cell_type": "markdown",
   "metadata": {},
   "source": [
    "## Face Enrollment via User Dashboard"
   ]
  },
  {
   "cell_type": "markdown",
   "metadata": {},
   "source": [
    "### Configuration\n",
    "\n",
    "This section script will initialize all reusable functions and variable for Face Enrollment methods that use Vanilla Dashboard API"
   ]
  },
  {
   "cell_type": "code",
   "execution_count": 4,
   "metadata": {},
   "outputs": [],
   "source": [
    "# @title #### Dashboard Backend Config\n",
    "VANILLA_ADDRESS = \"192.168.103.46\" # @param {type:\"string\"}\n",
    "VANILLA_PORT = \"8008\" # @param {type:\"string\"}\n",
    "FE_ENDPOINT = \"api/enrollment\""
   ]
  },
  {
   "cell_type": "code",
   "execution_count": null,
   "metadata": {},
   "outputs": [
    {
     "name": "stdout",
     "output_type": "stream",
     "text": [
      ">>> Face Enrollment Started\n"
     ]
    },
    {
     "name": "stderr",
     "output_type": "stream",
     "text": [
      "  0%|          | 0/3 [00:00<?, ?it/s]"
     ]
    },
    {
     "name": "stdout",
     "output_type": "stream",
     "text": [
      "{'name': 'Guido van Rossum', 'identity_number': 'P558381', 'gender': 'Male', 'birth_date': '1956-01-31', 'birth_place': 'NL ', 'status': 'VIP'}\n"
     ]
    },
    {
     "name": "stderr",
     "output_type": "stream",
     "text": [
      " 33%|███▎      | 1/3 [00:00<00:00,  2.61it/s]"
     ]
    },
    {
     "name": "stdout",
     "output_type": "stream",
     "text": [
      "{'enrollment': {'id': 10, 'name': 'Guido van Rossum', 'identity_number': 'P558381', 'gender': 'Male', 'birth_place': 'NL ', 'birth_date': '1956-01-31', 'status': 'VIP', 'created_at': '2024-04-03T04:54:42.80784777Z', 'updated_at': '2024-04-03T04:54:42.80784777Z', 'deleted_at': None, 'face_id': 278198592450068481, 'faces': [{'id': 10, 'variation': '11001469543596288918', 'image_thumbnail': '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', 'created_at': '2024-04-03T04:54:42.846251485Z'}]}, 'message': 'Successfully Enroll New Face', 'ok': True}\n",
      "{'name': 'Jensen Huang', 'identity_number': 'P7832196', 'gender': 'Male', 'birth_date': '1963-02-17', 'birth_place': 'TW', 'status': 'VVIP'}\n"
     ]
    },
    {
     "name": "stderr",
     "output_type": "stream",
     "text": [
      " 67%|██████▋   | 2/3 [00:01<00:00,  1.90it/s]"
     ]
    },
    {
     "name": "stdout",
     "output_type": "stream",
     "text": [
      "{'enrollment': {'id': 11, 'name': 'Jensen Huang', 'identity_number': 'P7832196', 'gender': 'Male', 'birth_place': 'TW', 'birth_date': '1963-02-17', 'status': 'VVIP', 'created_at': '2024-04-03T04:54:43.380569386Z', 'updated_at': '2024-04-03T04:54:43.380569386Z', 'deleted_at': None, 'face_id': 278198593406369793, 'faces': [{'id': 11, 'variation': '17755393672141010366', 'image_thumbnail': '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', 'created_at': '2024-04-03T04:54:43.47281593Z'}]}, 'message': 'Successfully Enroll New Face', 'ok': True}\n",
      "{'name': 'Yann Andre LeCun', 'identity_number': 'P8723719', 'gender': 'Male', 'birth_date': '1960-07-08', 'birth_place': 'FR', 'status': 'VIP'}\n"
     ]
    },
    {
     "name": "stderr",
     "output_type": "stream",
     "text": [
      "100%|██████████| 3/3 [00:01<00:00,  1.87it/s]"
     ]
    },
    {
     "name": "stdout",
     "output_type": "stream",
     "text": [
      "{'enrollment': {'id': 12, 'name': 'Yann Andre LeCun', 'identity_number': 'P8723719', 'gender': 'Male', 'birth_place': 'FR', 'birth_date': '1960-07-08', 'status': 'VIP', 'created_at': '2024-04-03T04:54:43.962125878Z', 'updated_at': '2024-04-03T04:54:43.962125878Z', 'deleted_at': None, 'face_id': 278198594379448321, 'faces': [{'id': 12, 'variation': '12250007747674816878', 'image_thumbnail': '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', 'created_at': '2024-04-03T04:54:44.046878138Z'}]}, 'message': 'Successfully Enroll New Face', 'ok': True}\n",
      ">>> Face Enrollment Finished\n"
     ]
    },
    {
     "name": "stderr",
     "output_type": "stream",
     "text": [
      "\n"
     ]
    }
   ],
   "source": [
    "from io import BytesIO\n",
    "import requests\n",
    "from PIL import Image\n",
    "import base64\n",
    "\n",
    "url = f\"http://{VANILLA_ADDRESS}:{VANILLA_PORT}/{FE_ENDPOINT}\"\n",
    "\n",
    "def image2bin(image):\n",
    "    img_byte_array = BytesIO()\n",
    "    image.save(img_byte_array, format='JPEG')\n",
    "    return img_byte_array.getvalue()\n",
    "\n",
    "\n",
    "def dashboard_enroll(image, payload):\n",
    "    files = {\n",
    "        ('images',('test.jpeg',image2bin(image),'image/jpeg'))\n",
    "    }\n",
    "\n",
    "    response = requests.request(\"POST\", url, data=payload, files=files)\n",
    "    res = response.json() \n",
    "\n",
    "    img_thumb = None\n",
    "    try:\n",
    "        base64_image_string = res['enrollment']['faces'][0]['image_thumbnail']\n",
    "        decoded_bytes = base64.b64decode(base64_image_string)\n",
    "        image_stream = BytesIO(decoded_bytes)\n",
    "        img_thumb = Image.open(image_stream)\n",
    "\n",
    "        return {\n",
    "            'face_id': str(res['enrollment']['face_id']),\n",
    "            'name': res['enrollment']['name'],\n",
    "            'status': res['enrollment']['status'],\n",
    "            'success': True,\n",
    "        }, img_thumb\n",
    "    except Exception as error:\n",
    "        return {\n",
    "            'face_id': None,\n",
    "            'name': None,\n",
    "            'status': str(error),\n",
    "            'success': False,\n",
    "        }, None"
   ]
  },
  {
   "cell_type": "markdown",
   "metadata": {},
   "source": [
    "### Bulk Inserts with Custom Metadata via User Dashboard API"
   ]
  },
  {
   "cell_type": "code",
   "execution_count": 12,
   "metadata": {},
   "outputs": [
    {
     "name": "stdout",
     "output_type": "stream",
     "text": [
      ">>> Sucessfully Read CSV Input\n",
      "Running on local URL:  http://127.0.0.1:7864\n",
      "\n",
      "To create a public link, set `share=True` in `launch()`.\n"
     ]
    },
    {
     "data": {
      "text/html": [
       "<div><iframe src=\"http://127.0.0.1:7864/\" width=\"100%\" height=\"500\" allow=\"autoplay; camera; microphone; clipboard-read; clipboard-write;\" frameborder=\"0\" allowfullscreen></iframe></div>"
      ],
      "text/plain": [
       "<IPython.core.display.HTML object>"
      ]
     },
     "metadata": {},
     "output_type": "display_data"
    },
    {
     "data": {
      "text/plain": []
     },
     "execution_count": 12,
     "metadata": {},
     "output_type": "execute_result"
    }
   ],
   "source": [
    "import time \n",
    "from PIL import Image\n",
    "\n",
    "import gradio as gr\n",
    "import pandas as pd\n",
    "from tqdm import tqdm\n",
    "\n",
    "df = pd.read_csv('bulk_inputs/face_data_with_metadata.csv')\n",
    "print(\">>> Sucessfully Read CSV Input\")\n",
    "\n",
    "def bulk_enroll_with_metadata(in_df):\n",
    "    file_names = []\n",
    "    face_ids = []\n",
    "    names = []\n",
    "    status = []\n",
    "    successes = []\n",
    "    img_thumbs = []\n",
    "\n",
    "    print(\">>> Face Enrollment Started\")\n",
    "    \n",
    "    for _, row in tqdm(in_df.iterrows(), total=len(in_df)):\n",
    "        img = Image.open(row['file_name'])\n",
    "\n",
    "        payload = {\n",
    "            'name': row['name'],\n",
    "            # 'face_id': row['face_id'] # Enable this if want to use Custom Face ID, instead randomly generated\n",
    "            'identity_number': row['id_num'],\n",
    "            'gender': row['gender'],\n",
    "            'birth_date': row['birth_date'],\n",
    "            'birth_place': row['birth_place'],\n",
    "            'status': row['status'],\n",
    "        }\n",
    "        print(payload)\n",
    "\n",
    "        res, img_thumb = dashboard_enroll(img, payload)\n",
    "        file_names.append(row['file_name'])\n",
    "        face_ids.append(res['face_id'])\n",
    "        names.append(res['name'])\n",
    "        status.append(res['status'])\n",
    "        successes.append(res['success'])\n",
    "        if img_thumb:\n",
    "            img_thumbs.append((img_thumb, res['face_id']))\n",
    "\n",
    "        time.sleep(0.1)\n",
    "    \n",
    "    print(\">>> Face Enrollment Finished\")\n",
    "\n",
    "    out_df = pd.DataFrame(data={\n",
    "            'file_name': file_names,\n",
    "            'face_id': face_ids,\n",
    "            'name': names,\n",
    "            'status': status,\n",
    "            'success': successes\n",
    "        })\n",
    "    \n",
    "    return out_df, img_thumbs\n",
    "\n",
    "iface = gr.Interface(\n",
    "    fn=bulk_enroll_with_metadata,  \n",
    "    inputs=gr.Dataframe(datatype=\"str\", row_count=(3, \"dynamic\"), col_count=7, interactive=False),\n",
    "    outputs=[gr.Dataframe(datatype=\"str\", row_count=(3, \"dynamic\"), col_count=5, interactive=False),\n",
    "             gr.Gallery(label=\"Image Thumbnails\", show_label=True, elem_id=\"gallery\",\n",
    "                        columns=[3], rows=[1], object_fit=\"contain\", height=\"auto\")], \n",
    "    title=\"Face Enrollment (Bulk with Metadata)\",\n",
    "    examples=[\n",
    "        df,\n",
    "    ]\n",
    ")\n",
    "\n",
    "iface.launch()"
   ]
  }
 ],
 "metadata": {
  "kernelspec": {
   "display_name": "Python 3",
   "language": "python",
   "name": "python3"
  },
  "language_info": {
   "codemirror_mode": {
    "name": "ipython",
    "version": 3
   },
   "file_extension": ".py",
   "mimetype": "text/x-python",
   "name": "python",
   "nbconvert_exporter": "python",
   "pygments_lexer": "ipython3",
   "version": "3.8.10"
  }
 },
 "nbformat": 4,
 "nbformat_minor": 2
}
