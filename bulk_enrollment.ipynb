{
 "cells": [
  {
   "cell_type": "markdown",
   "metadata": {},
   "source": [
    "# Nodeflux Face Enrollment (in-depth) DEMO"
   ]
  },
  {
   "cell_type": "markdown",
   "metadata": {},
   "source": [
    "### Introduction\n",
    "\n",
    "Welcome! In this demo, you will experience the nodeflux's Face Recognition products, especially on how to deal with face enrollments system with some provided options."
   ]
  },
  {
   "cell_type": "markdown",
   "metadata": {},
   "source": [
    "### Dependencies\n",
    "\n",
    "Run below script once to install all required dependencies"
   ]
  },
  {
   "cell_type": "code",
   "execution_count": 1,
   "metadata": {},
   "outputs": [
    {
     "name": "stdout",
     "output_type": "stream",
     "text": [
      "Defaulting to user installation because normal site-packages is not writeable\n",
      "Requirement already satisfied: pandas in /usr/local/lib/python3.8/dist-packages (2.0.3)\n",
      "Requirement already satisfied: python-dateutil>=2.8.2 in /usr/local/lib/python3.8/dist-packages (from pandas) (2.8.2)\n",
      "Requirement already satisfied: pytz>=2020.1 in /usr/local/lib/python3.8/dist-packages (from pandas) (2023.3)\n",
      "Requirement already satisfied: tzdata>=2022.1 in /usr/local/lib/python3.8/dist-packages (from pandas) (2023.3)\n",
      "Requirement already satisfied: numpy>=1.20.3 in /home/nodeflux/.local/lib/python3.8/site-packages (from pandas) (1.24.2)\n",
      "Requirement already satisfied: six>=1.5 in /usr/lib/python3/dist-packages (from python-dateutil>=2.8.2->pandas) (1.14.0)\n",
      "\n",
      "\u001b[1m[\u001b[0m\u001b[34;49mnotice\u001b[0m\u001b[1;39;49m]\u001b[0m\u001b[39;49m A new release of pip is available: \u001b[0m\u001b[31;49m23.3.2\u001b[0m\u001b[39;49m -> \u001b[0m\u001b[32;49m24.0\u001b[0m\n",
      "\u001b[1m[\u001b[0m\u001b[34;49mnotice\u001b[0m\u001b[1;39;49m]\u001b[0m\u001b[39;49m To update, run: \u001b[0m\u001b[32;49mpip install --upgrade pip\u001b[0m\n",
      "Note: you may need to restart the kernel to use updated packages.\n",
      "Defaulting to user installation because normal site-packages is not writeable\n",
      "Requirement already satisfied: pillow in /home/nodeflux/.local/lib/python3.8/site-packages (10.2.0)\n",
      "\n",
      "\u001b[1m[\u001b[0m\u001b[34;49mnotice\u001b[0m\u001b[1;39;49m]\u001b[0m\u001b[39;49m A new release of pip is available: \u001b[0m\u001b[31;49m23.3.2\u001b[0m\u001b[39;49m -> \u001b[0m\u001b[32;49m24.0\u001b[0m\n",
      "\u001b[1m[\u001b[0m\u001b[34;49mnotice\u001b[0m\u001b[1;39;49m]\u001b[0m\u001b[39;49m To update, run: \u001b[0m\u001b[32;49mpip install --upgrade pip\u001b[0m\n",
      "Note: you may need to restart the kernel to use updated packages.\n",
      "Defaulting to user installation because normal site-packages is not writeable\n",
      "Requirement already satisfied: gradio in /home/nodeflux/.local/lib/python3.8/site-packages (3.43.2)\n",
      "Requirement already satisfied: aiofiles<24.0,>=22.0 in /home/nodeflux/.local/lib/python3.8/site-packages (from gradio) (23.2.1)\n",
      "Requirement already satisfied: altair<6.0,>=4.2.0 in /home/nodeflux/.local/lib/python3.8/site-packages (from gradio) (5.1.1)\n",
      "Requirement already satisfied: fastapi in /home/nodeflux/.local/lib/python3.8/site-packages (from gradio) (0.103.1)\n",
      "Requirement already satisfied: ffmpy in /home/nodeflux/.local/lib/python3.8/site-packages (from gradio) (0.3.1)\n",
      "Requirement already satisfied: gradio-client==0.5.0 in /home/nodeflux/.local/lib/python3.8/site-packages (from gradio) (0.5.0)\n",
      "Requirement already satisfied: httpx in /home/nodeflux/.local/lib/python3.8/site-packages (from gradio) (0.24.1)\n",
      "Requirement already satisfied: huggingface-hub>=0.14.0 in /home/nodeflux/.local/lib/python3.8/site-packages (from gradio) (0.16.4)\n",
      "Requirement already satisfied: importlib-resources<7.0,>=1.3 in /home/nodeflux/.local/lib/python3.8/site-packages (from gradio) (5.12.0)\n",
      "Requirement already satisfied: jinja2<4.0 in /home/nodeflux/.local/lib/python3.8/site-packages (from gradio) (3.1.2)\n",
      "Requirement already satisfied: markupsafe~=2.0 in /home/nodeflux/.local/lib/python3.8/site-packages (from gradio) (2.1.3)\n",
      "Requirement already satisfied: matplotlib~=3.0 in /home/nodeflux/.local/lib/python3.8/site-packages (from gradio) (3.7.1)\n",
      "Requirement already satisfied: numpy~=1.0 in /home/nodeflux/.local/lib/python3.8/site-packages (from gradio) (1.24.2)\n",
      "Requirement already satisfied: orjson~=3.0 in /home/nodeflux/.local/lib/python3.8/site-packages (from gradio) (3.9.6)\n",
      "Requirement already satisfied: packaging in /home/nodeflux/.local/lib/python3.8/site-packages (from gradio) (23.0)\n",
      "Requirement already satisfied: pandas<3.0,>=1.0 in /usr/local/lib/python3.8/dist-packages (from gradio) (2.0.3)\n",
      "Requirement already satisfied: pillow<11.0,>=8.0 in /home/nodeflux/.local/lib/python3.8/site-packages (from gradio) (10.2.0)\n",
      "Requirement already satisfied: pydantic!=1.8,!=1.8.1,!=2.0.0,!=2.0.1,<3.0.0,>=1.7.4 in /home/nodeflux/.local/lib/python3.8/site-packages (from gradio) (2.3.0)\n",
      "Requirement already satisfied: pydub in /home/nodeflux/.local/lib/python3.8/site-packages (from gradio) (0.25.1)\n",
      "Requirement already satisfied: python-multipart in /home/nodeflux/.local/lib/python3.8/site-packages (from gradio) (0.0.6)\n",
      "Requirement already satisfied: pyyaml<7.0,>=5.0 in /usr/lib/python3/dist-packages (from gradio) (5.3.1)\n",
      "Requirement already satisfied: requests~=2.0 in /home/nodeflux/.local/lib/python3.8/site-packages (from gradio) (2.28.1)\n",
      "Requirement already satisfied: semantic-version~=2.0 in /home/nodeflux/.local/lib/python3.8/site-packages (from gradio) (2.10.0)\n",
      "Requirement already satisfied: typing-extensions~=4.0 in /usr/local/lib/python3.8/dist-packages (from gradio) (4.7.1)\n",
      "Requirement already satisfied: uvicorn>=0.14.0 in /home/nodeflux/.local/lib/python3.8/site-packages (from gradio) (0.23.2)\n",
      "Requirement already satisfied: websockets<12.0,>=10.0 in /home/nodeflux/.local/lib/python3.8/site-packages (from gradio) (11.0.3)\n",
      "Requirement already satisfied: fsspec in /home/nodeflux/.local/lib/python3.8/site-packages (from gradio-client==0.5.0->gradio) (2023.6.0)\n",
      "Requirement already satisfied: jsonschema>=3.0 in /home/nodeflux/.local/lib/python3.8/site-packages (from altair<6.0,>=4.2.0->gradio) (4.19.0)\n",
      "Requirement already satisfied: toolz in /home/nodeflux/.local/lib/python3.8/site-packages (from altair<6.0,>=4.2.0->gradio) (0.12.0)\n",
      "Requirement already satisfied: filelock in /home/nodeflux/.local/lib/python3.8/site-packages (from huggingface-hub>=0.14.0->gradio) (3.12.2)\n",
      "Requirement already satisfied: tqdm>=4.42.1 in /home/nodeflux/.local/lib/python3.8/site-packages (from huggingface-hub>=0.14.0->gradio) (4.64.1)\n",
      "Requirement already satisfied: zipp>=3.1.0 in /home/nodeflux/.local/lib/python3.8/site-packages (from importlib-resources<7.0,>=1.3->gradio) (3.15.0)\n",
      "Requirement already satisfied: contourpy>=1.0.1 in /home/nodeflux/.local/lib/python3.8/site-packages (from matplotlib~=3.0->gradio) (1.0.7)\n",
      "Requirement already satisfied: cycler>=0.10 in /home/nodeflux/.local/lib/python3.8/site-packages (from matplotlib~=3.0->gradio) (0.11.0)\n",
      "Requirement already satisfied: fonttools>=4.22.0 in /home/nodeflux/.local/lib/python3.8/site-packages (from matplotlib~=3.0->gradio) (4.39.3)\n",
      "Requirement already satisfied: kiwisolver>=1.0.1 in /home/nodeflux/.local/lib/python3.8/site-packages (from matplotlib~=3.0->gradio) (1.4.4)\n",
      "Requirement already satisfied: pyparsing>=2.3.1 in /home/nodeflux/.local/lib/python3.8/site-packages (from matplotlib~=3.0->gradio) (3.0.9)\n",
      "Requirement already satisfied: python-dateutil>=2.7 in /usr/local/lib/python3.8/dist-packages (from matplotlib~=3.0->gradio) (2.8.2)\n",
      "Requirement already satisfied: pytz>=2020.1 in /usr/local/lib/python3.8/dist-packages (from pandas<3.0,>=1.0->gradio) (2023.3)\n",
      "Requirement already satisfied: tzdata>=2022.1 in /usr/local/lib/python3.8/dist-packages (from pandas<3.0,>=1.0->gradio) (2023.3)\n",
      "Requirement already satisfied: annotated-types>=0.4.0 in /home/nodeflux/.local/lib/python3.8/site-packages (from pydantic!=1.8,!=1.8.1,!=2.0.0,!=2.0.1,<3.0.0,>=1.7.4->gradio) (0.5.0)\n",
      "Requirement already satisfied: pydantic-core==2.6.3 in /home/nodeflux/.local/lib/python3.8/site-packages (from pydantic!=1.8,!=1.8.1,!=2.0.0,!=2.0.1,<3.0.0,>=1.7.4->gradio) (2.6.3)\n",
      "Requirement already satisfied: charset-normalizer<3,>=2 in /home/nodeflux/.local/lib/python3.8/site-packages (from requests~=2.0->gradio) (2.1.1)\n",
      "Requirement already satisfied: idna<4,>=2.5 in /usr/lib/python3/dist-packages (from requests~=2.0->gradio) (2.8)\n",
      "Requirement already satisfied: urllib3<1.27,>=1.21.1 in /home/nodeflux/.local/lib/python3.8/site-packages (from requests~=2.0->gradio) (1.26.15)\n",
      "Requirement already satisfied: certifi>=2017.4.17 in /usr/lib/python3/dist-packages (from requests~=2.0->gradio) (2019.11.28)\n",
      "Requirement already satisfied: click>=7.0 in /usr/local/lib/python3.8/dist-packages (from uvicorn>=0.14.0->gradio) (8.1.3)\n",
      "Requirement already satisfied: h11>=0.8 in /home/nodeflux/.local/lib/python3.8/site-packages (from uvicorn>=0.14.0->gradio) (0.14.0)\n",
      "Requirement already satisfied: anyio<4.0.0,>=3.7.1 in /home/nodeflux/.local/lib/python3.8/site-packages (from fastapi->gradio) (3.7.1)\n",
      "Requirement already satisfied: starlette<0.28.0,>=0.27.0 in /home/nodeflux/.local/lib/python3.8/site-packages (from fastapi->gradio) (0.27.0)\n",
      "Requirement already satisfied: httpcore<0.18.0,>=0.15.0 in /home/nodeflux/.local/lib/python3.8/site-packages (from httpx->gradio) (0.17.3)\n",
      "Requirement already satisfied: sniffio in /home/nodeflux/.local/lib/python3.8/site-packages (from httpx->gradio) (1.3.0)\n",
      "Requirement already satisfied: exceptiongroup in /home/nodeflux/.local/lib/python3.8/site-packages (from anyio<4.0.0,>=3.7.1->fastapi->gradio) (1.1.3)\n",
      "Requirement already satisfied: attrs>=22.2.0 in /home/nodeflux/.local/lib/python3.8/site-packages (from jsonschema>=3.0->altair<6.0,>=4.2.0->gradio) (23.1.0)\n",
      "Requirement already satisfied: jsonschema-specifications>=2023.03.6 in /home/nodeflux/.local/lib/python3.8/site-packages (from jsonschema>=3.0->altair<6.0,>=4.2.0->gradio) (2023.7.1)\n",
      "Requirement already satisfied: pkgutil-resolve-name>=1.3.10 in /home/nodeflux/.local/lib/python3.8/site-packages (from jsonschema>=3.0->altair<6.0,>=4.2.0->gradio) (1.3.10)\n",
      "Requirement already satisfied: referencing>=0.28.4 in /home/nodeflux/.local/lib/python3.8/site-packages (from jsonschema>=3.0->altair<6.0,>=4.2.0->gradio) (0.30.2)\n",
      "Requirement already satisfied: rpds-py>=0.7.1 in /home/nodeflux/.local/lib/python3.8/site-packages (from jsonschema>=3.0->altair<6.0,>=4.2.0->gradio) (0.10.0)\n",
      "Requirement already satisfied: six>=1.5 in /usr/lib/python3/dist-packages (from python-dateutil>=2.7->matplotlib~=3.0->gradio) (1.14.0)\n",
      "\n",
      "\u001b[1m[\u001b[0m\u001b[34;49mnotice\u001b[0m\u001b[1;39;49m]\u001b[0m\u001b[39;49m A new release of pip is available: \u001b[0m\u001b[31;49m23.3.2\u001b[0m\u001b[39;49m -> \u001b[0m\u001b[32;49m24.0\u001b[0m\n",
      "\u001b[1m[\u001b[0m\u001b[34;49mnotice\u001b[0m\u001b[1;39;49m]\u001b[0m\u001b[39;49m To update, run: \u001b[0m\u001b[32;49mpip install --upgrade pip\u001b[0m\n",
      "Note: you may need to restart the kernel to use updated packages.\n",
      "Defaulting to user installation because normal site-packages is not writeable\n",
      "Requirement already satisfied: requests in /home/nodeflux/.local/lib/python3.8/site-packages (2.28.1)\n",
      "Requirement already satisfied: charset-normalizer<3,>=2 in /home/nodeflux/.local/lib/python3.8/site-packages (from requests) (2.1.1)\n",
      "Requirement already satisfied: idna<4,>=2.5 in /usr/lib/python3/dist-packages (from requests) (2.8)\n",
      "Requirement already satisfied: urllib3<1.27,>=1.21.1 in /home/nodeflux/.local/lib/python3.8/site-packages (from requests) (1.26.15)\n",
      "Requirement already satisfied: certifi>=2017.4.17 in /usr/lib/python3/dist-packages (from requests) (2019.11.28)\n",
      "\n",
      "\u001b[1m[\u001b[0m\u001b[34;49mnotice\u001b[0m\u001b[1;39;49m]\u001b[0m\u001b[39;49m A new release of pip is available: \u001b[0m\u001b[31;49m23.3.2\u001b[0m\u001b[39;49m -> \u001b[0m\u001b[32;49m24.0\u001b[0m\n",
      "\u001b[1m[\u001b[0m\u001b[34;49mnotice\u001b[0m\u001b[1;39;49m]\u001b[0m\u001b[39;49m To update, run: \u001b[0m\u001b[32;49mpip install --upgrade pip\u001b[0m\n",
      "Note: you may need to restart the kernel to use updated packages.\n",
      "Defaulting to user installation because normal site-packages is not writeable\n",
      "Requirement already satisfied: tqdm in /home/nodeflux/.local/lib/python3.8/site-packages (4.64.1)\n",
      "\n",
      "\u001b[1m[\u001b[0m\u001b[34;49mnotice\u001b[0m\u001b[1;39;49m]\u001b[0m\u001b[39;49m A new release of pip is available: \u001b[0m\u001b[31;49m23.3.2\u001b[0m\u001b[39;49m -> \u001b[0m\u001b[32;49m24.0\u001b[0m\n",
      "\u001b[1m[\u001b[0m\u001b[34;49mnotice\u001b[0m\u001b[1;39;49m]\u001b[0m\u001b[39;49m To update, run: \u001b[0m\u001b[32;49mpip install --upgrade pip\u001b[0m\n",
      "Note: you may need to restart the kernel to use updated packages.\n"
     ]
    }
   ],
   "source": [
    "%pip install pandas\n",
    "%pip install pillow\n",
    "%pip install gradio\n",
    "%pip install requests\n",
    "%pip install tqdm"
   ]
  },
  {
   "cell_type": "markdown",
   "metadata": {},
   "source": [
    "## Face Enrollment to FR on Premise Platform"
   ]
  },
  {
   "cell_type": "markdown",
   "metadata": {},
   "source": [
    "### Configuration \n",
    "\n",
    "This section script will initialize all reusable functions and variable accross different Face Enrollment methods that directly use FRemis API"
   ]
  },
  {
   "cell_type": "code",
   "execution_count": 2,
   "metadata": {},
   "outputs": [],
   "source": [
    "# @title #### Fremis Config\n",
    "FREMIS_ADDRESS = \"192.168.103.46\" # @param {type:\"string\"}\n",
    "FREMIS_PORT = \"2210\" # @param {type:\"string\"}\n",
    "FE_ENDPOINT = \"v1/face/enrollment\""
   ]
  },
  {
   "cell_type": "code",
   "execution_count": 3,
   "metadata": {},
   "outputs": [],
   "source": [
    "import requests\n",
    "import json\n",
    "from io import BytesIO\n",
    "import base64\n",
    "\n",
    "url = f\"http://{FREMIS_ADDRESS}:{FREMIS_PORT}/{FE_ENDPOINT}\"\n",
    "\n",
    "# Convert Image to Base64 String Data\n",
    "def image2base64(image):\n",
    "    img_byte_array = BytesIO()\n",
    "    image.save(img_byte_array, format='JPEG')\n",
    "    img_byte_array = img_byte_array.getvalue()\n",
    "    \n",
    "    return base64.b64encode(img_byte_array).decode('utf-8')\n",
    "\n",
    "# Enrollment Function\n",
    "def enroll(image, face_id=None):\n",
    "    headers = {\n",
    "        'Content-Type': 'application/json'\n",
    "    }\n",
    "\n",
    "    body = {\n",
    "        'image': image2base64(image),\n",
    "        'keyspace': 'default',\n",
    "    }\n",
    "\n",
    "    if face_id:\n",
    "        body['additional_params'] = {\n",
    "            'face_id': str(face_id)\n",
    "        }\n",
    "\n",
    "    payload = json.dumps(body)\n",
    "    print(\">>> Enrolling Face with PAYLOAD:\", payload)\n",
    "\n",
    "    response = requests.request(\"POST\", url, headers=headers, data=payload)\n",
    "    res = response.json()\n",
    "\n",
    "    try:\n",
    "        face_id = res['face_id']\n",
    "        return {\n",
    "            'face_id': res['face_id'],\n",
    "            'success': True\n",
    "        }\n",
    "    except:\n",
    "        return {\n",
    "            'face_id': face_id,\n",
    "            'success': False\n",
    "        }"
   ]
  },
  {
   "cell_type": "markdown",
   "metadata": {},
   "source": [
    "### Bulk Inserts"
   ]
  },
  {
   "cell_type": "code",
   "execution_count": null,
   "metadata": {},
   "outputs": [],
   "source": [
    "import time \n",
    "from PIL import Image\n",
    "\n",
    "import gradio as gr\n",
    "import pandas as pd\n",
    "from tqdm import tqdm\n",
    "\n",
    "df = pd.read_csv('bulk_inputs/face_data.csv')\n",
    "print(\">>> Sucessfully Read CSV Input\")\n",
    "\n",
    "def bulk_enroll(in_df):\n",
    "    file_names = []\n",
    "    face_ids = []\n",
    "    successes = []\n",
    "\n",
    "    count = len(in_df)\n",
    "    success_count = 0\n",
    "    failed_count = 0\n",
    "    print(\">>> Face Enrollment Started DATA_COUNT:\", count)\n",
    "\n",
    "    for _, row in tqdm(in_df.iterrows(), total=count):\n",
    "        img = Image.open(row['file_name'])\n",
    "\n",
    "        res = enroll(img)\n",
    "        file_names.append(row['file_name'])\n",
    "        face_ids.append(res['face_id'])\n",
    "        successes.append(res['success'])\n",
    "\n",
    "        if res['success']:\n",
    "            success_count = success_count + 1\n",
    "        else:\n",
    "            failed_count = failed_count + 1\n",
    "\n",
    "        time.sleep(0.1)\n",
    "\n",
    "    print(\">>> Face Enrollment Finished SUCCESS_COUNT:\", success_count, \"FAILED_COUNT:\", failed_count)\n",
    "\n",
    "    out_df = pd.DataFrame(data={\n",
    "            'file_name': file_names,\n",
    "            'face_id': face_ids,\n",
    "            'success': successes\n",
    "        })\n",
    "    \n",
    "    return out_df\n",
    "\n",
    "iface = gr.Interface(\n",
    "    fn=bulk_enroll,  \n",
    "    inputs=gr.Dataframe(datatype=\"str\", row_count=(3, \"dynamic\"), col_count=1, interactive=False),\n",
    "    outputs=gr.Dataframe(datatype=\"str\", row_count=(3, \"dynamic\"), col_count=3, interactive=False), \n",
    "    title=\"Face Enrollment (Bulk with Custom Face ID)\",\n",
    "    examples=[\n",
    "        df,\n",
    "    ]\n",
    ")\n",
    "\n",
    "iface.launch()"
   ]
  },
  {
   "cell_type": "markdown",
   "metadata": {},
   "source": [
    "### Bulk Inserts with Custom Face IDs"
   ]
  },
  {
   "cell_type": "code",
   "execution_count": null,
   "metadata": {},
   "outputs": [],
   "source": [
    "import time \n",
    "from PIL import Image\n",
    "\n",
    "import gradio as gr\n",
    "import pandas as pd\n",
    "from tqdm import tqdm\n",
    "\n",
    "url = f\"http://{FREMIS_ADDRESS}:{FREMIS_PORT}/{FE_ENDPOINT}\"\n",
    "\n",
    "df = pd.read_csv('bulk_inputs/face_data_with_custom_id.csv')\n",
    "print(\">>> Sucessfully Read CSV Input\")\n",
    "\n",
    "def bulk_enroll_with_id(in_df):\n",
    "    file_names = []\n",
    "    face_ids = []\n",
    "    successes = []\n",
    "\n",
    "    count = len(in_df)\n",
    "    success_count = 0\n",
    "    failed_count = 0\n",
    "    print(\">>> Face Enrollment Started DATA_COUNT:\", count)\n",
    "\n",
    "    print(\">>> Face Enrollment Started\")\n",
    "\n",
    "    for _, row in tqdm(in_df.iterrows(), total=count):\n",
    "        img = Image.open(row['file_name'])\n",
    "\n",
    "        res = enroll(img, row['face_id'])\n",
    "        file_names.append(row['file_name'])\n",
    "        face_ids.append(res['face_id'])\n",
    "        successes.append(res['success'])\n",
    "\n",
    "        if res['success']:\n",
    "            success_count = success_count + 1\n",
    "        else:\n",
    "            failed_count = failed_count + 1\n",
    "\n",
    "        time.sleep(0.1)\n",
    "\n",
    "    print(\">>> Face Enrollment Finished SUCCESS_COUNT:\", success_count, \"FAILED_COUNT:\", failed_count)\n",
    "\n",
    "    out_df = pd.DataFrame(data={\n",
    "            'file_name': file_names,\n",
    "            'face_id': face_ids,\n",
    "            'success': successes\n",
    "        })\n",
    "    \n",
    "    return out_df\n",
    "\n",
    "iface = gr.Interface(\n",
    "    fn=bulk_enroll_with_id,  \n",
    "    inputs=gr.Dataframe(datatype=\"str\", row_count=(3, \"dynamic\"), col_count=2, interactive=False),\n",
    "    outputs=gr.Dataframe(datatype=\"str\", row_count=(3, \"dynamic\"), col_count=3, interactive=False), \n",
    "    title=\"Face Enrollment (Bulk with Custom Face ID)\",\n",
    "    examples=[\n",
    "        df,\n",
    "    ]\n",
    ")\n",
    "\n",
    "iface.launch()"
   ]
  },
  {
   "cell_type": "markdown",
   "metadata": {},
   "source": [
    "## Face Enrollment via User Dashboard"
   ]
  },
  {
   "cell_type": "markdown",
   "metadata": {},
   "source": [
    "### Configuration\n",
    "\n",
    "This section script will initialize all reusable functions and variable for Face Enrollment methods that use Vanilla Dashboard API"
   ]
  },
  {
   "cell_type": "code",
   "execution_count": 7,
   "metadata": {},
   "outputs": [],
   "source": [
    "# @title #### Dashboard Backend Config\n",
    "VANILLA_ADDRESS = \"192.168.103.46\" # @param {type:\"string\"}\n",
    "VANILLA_PORT = \"8008\" # @param {type:\"string\"}\n",
    "FE_ENDPOINT = \"api/enrollment\""
   ]
  },
  {
   "cell_type": "code",
   "execution_count": 8,
   "metadata": {},
   "outputs": [],
   "source": [
    "from io import BytesIO\n",
    "import requests\n",
    "from PIL import Image\n",
    "import base64\n",
    "\n",
    "url = f\"http://{VANILLA_ADDRESS}:{VANILLA_PORT}/{FE_ENDPOINT}\"\n",
    "\n",
    "def image2bin(image):\n",
    "    img_byte_array = BytesIO()\n",
    "    image.save(img_byte_array, format='JPEG')\n",
    "    return img_byte_array.getvalue()\n",
    "\n",
    "\n",
    "def dashboard_enroll(image, payload):\n",
    "    files = {\n",
    "        ('images',('test.jpeg',image2bin(image),'image/jpeg'))\n",
    "    }\n",
    "\n",
    "    response = requests.request(\"POST\", url, data=payload, files=files)\n",
    "    res = response.json() \n",
    "\n",
    "    img_thumb = None\n",
    "    try:\n",
    "        base64_image_string = res['enrollment']['faces'][0]['image_thumbnail']\n",
    "        decoded_bytes = base64.b64decode(base64_image_string)\n",
    "        image_stream = BytesIO(decoded_bytes)\n",
    "        img_thumb = Image.open(image_stream)\n",
    "\n",
    "        return {\n",
    "            'face_id': str(res['enrollment']['face_id']),\n",
    "            'name': res['enrollment']['name'],\n",
    "            'status': res['enrollment']['status'],\n",
    "            'success': True,\n",
    "        }, img_thumb\n",
    "    except Exception as error:\n",
    "        return {\n",
    "            'face_id': None,\n",
    "            'name': None,\n",
    "            'status': str(error),\n",
    "            'success': False,\n",
    "        }, None"
   ]
  },
  {
   "cell_type": "markdown",
   "metadata": {},
   "source": [
    "### Bulk Inserts with Custom Metadata via User Dashboard API"
   ]
  },
  {
   "cell_type": "code",
   "execution_count": 6,
   "metadata": {},
   "outputs": [
    {
     "name": "stdout",
     "output_type": "stream",
     "text": [
      ">>> Sucessfully Read CSV Input\n",
      "Running on local URL:  http://127.0.0.1:7861\n",
      "\n",
      "To create a public link, set `share=True` in `launch()`.\n"
     ]
    },
    {
     "data": {
      "text/html": [
       "<div><iframe src=\"http://127.0.0.1:7861/\" width=\"100%\" height=\"500\" allow=\"autoplay; camera; microphone; clipboard-read; clipboard-write;\" frameborder=\"0\" allowfullscreen></iframe></div>"
      ],
      "text/plain": [
       "<IPython.core.display.HTML object>"
      ]
     },
     "metadata": {},
     "output_type": "display_data"
    },
    {
     "data": {
      "text/plain": []
     },
     "execution_count": 6,
     "metadata": {},
     "output_type": "execute_result"
    },
    {
     "name": "stdout",
     "output_type": "stream",
     "text": [
      ">>> Face Enrollment Started\n"
     ]
    },
    {
     "name": "stderr",
     "output_type": "stream",
     "text": [
      "  0%|          | 0/3 [00:00<?, ?it/s]"
     ]
    },
    {
     "name": "stdout",
     "output_type": "stream",
     "text": [
      ">>> Enrolling Face with PAYLOAD: {'name': 'Guido van Rossum', 'identity_number': 'P558381', 'gender': 'Male', 'birth_date': '1956-01-31', 'birth_place': 'NL ', 'status': 'VIP'}\n"
     ]
    },
    {
     "name": "stderr",
     "output_type": "stream",
     "text": [
      " 33%|███▎      | 1/3 [00:00<00:01,  1.97it/s]"
     ]
    },
    {
     "name": "stdout",
     "output_type": "stream",
     "text": [
      ">>> Enrolling Face with PAYLOAD: {'name': 'Jensen Huang', 'identity_number': 'P7832196', 'gender': 'Male', 'birth_date': '1963-02-17', 'birth_place': 'TW', 'status': 'VVIP'}\n"
     ]
    },
    {
     "name": "stderr",
     "output_type": "stream",
     "text": [
      " 67%|██████▋   | 2/3 [00:01<00:00,  1.18it/s]"
     ]
    },
    {
     "name": "stdout",
     "output_type": "stream",
     "text": [
      ">>> Enrolling Face with PAYLOAD: {'name': 'Yann Andre LeCun', 'identity_number': 'P8723719', 'gender': 'Male', 'birth_date': '1960-07-08', 'birth_place': 'FR', 'status': 'VIP'}\n"
     ]
    },
    {
     "name": "stderr",
     "output_type": "stream",
     "text": [
      "100%|██████████| 3/3 [00:02<00:00,  1.25it/s]\n"
     ]
    },
    {
     "name": "stdout",
     "output_type": "stream",
     "text": [
      ">>> Face Enrollment Finished\n"
     ]
    }
   ],
   "source": [
    "import time \n",
    "from PIL import Image\n",
    "\n",
    "import gradio as gr\n",
    "import pandas as pd\n",
    "from tqdm import tqdm\n",
    "\n",
    "df = pd.read_csv('bulk_inputs/face_data_with_metadata.csv')\n",
    "print(\">>> Sucessfully Read CSV Input\")\n",
    "\n",
    "def bulk_enroll_with_metadata(in_df):\n",
    "    file_names = []\n",
    "    face_ids = []\n",
    "    names = []\n",
    "    status = []\n",
    "    successes = []\n",
    "    img_thumbs = []\n",
    "\n",
    "    count = len(in_df)\n",
    "    success_count = 0\n",
    "    failed_count = 0\n",
    "    print(\">>> Face Enrollment Started DATA_COUNT:\", count)\n",
    "    \n",
    "    for _, row in tqdm(in_df.iterrows(), total=count):\n",
    "        img = Image.open(row['file_name'])\n",
    "\n",
    "        payload = {\n",
    "            'name': row['name'],\n",
    "            # 'face_id': row['face_id'] # Enable this if want to use Custom Face ID, instead randomly generated\n",
    "            'identity_number': row['id_num'],\n",
    "            'gender': row['gender'],\n",
    "            'birth_date': row['birth_date'],\n",
    "            'birth_place': row['birth_place'],\n",
    "            'status': row['status'],\n",
    "        }\n",
    "        print(\">>> Enrolling Face with PAYLOAD:\", payload)\n",
    "\n",
    "        res, img_thumb = dashboard_enroll(img, payload)\n",
    "        file_names.append(row['file_name'])\n",
    "        face_ids.append(res['face_id'])\n",
    "        names.append(res['name'])\n",
    "        status.append(res['status'])\n",
    "        successes.append(res['success'])\n",
    "        if img_thumb:\n",
    "            img_thumbs.append((img_thumb, res['face_id']))\n",
    "\n",
    "        if res['success']:\n",
    "            success_count = success_count + 1\n",
    "        else:\n",
    "            failed_count = failed_count + 1\n",
    "\n",
    "        time.sleep(0.1)\n",
    "    \n",
    "    print(\">>> Face Enrollment Finished SUCCESS_COUNT:\", success_count, \"FAILED_COUNT:\", failed_count)\n",
    "\n",
    "    out_df = pd.DataFrame(data={\n",
    "            'file_name': file_names,\n",
    "            'face_id': face_ids,\n",
    "            'name': names,\n",
    "            'status': status,\n",
    "            'success': successes\n",
    "        })\n",
    "    \n",
    "    return out_df, img_thumbs\n",
    "\n",
    "iface = gr.Interface(\n",
    "    fn=bulk_enroll_with_metadata,  \n",
    "    inputs=gr.Dataframe(datatype=\"str\", row_count=(3, \"dynamic\"), col_count=7, interactive=False),\n",
    "    outputs=[gr.Dataframe(datatype=\"str\", row_count=(3, \"dynamic\"), col_count=5, interactive=False),\n",
    "             gr.Gallery(label=\"Image Thumbnails\", show_label=True, elem_id=\"gallery\",\n",
    "                        columns=[3], rows=[1], object_fit=\"contain\", height=\"auto\")], \n",
    "    title=\"Face Enrollment (Bulk with Metadata)\",\n",
    "    examples=[\n",
    "        df,\n",
    "    ]\n",
    ")\n",
    "\n",
    "iface.launch()"
   ]
  }
 ],
 "metadata": {
  "kernelspec": {
   "display_name": "Python 3",
   "language": "python",
   "name": "python3"
  },
  "language_info": {
   "codemirror_mode": {
    "name": "ipython",
    "version": 3
   },
   "file_extension": ".py",
   "mimetype": "text/x-python",
   "name": "python",
   "nbconvert_exporter": "python",
   "pygments_lexer": "ipython3",
   "version": "3.8.10"
  }
 },
 "nbformat": 4,
 "nbformat_minor": 2
}
